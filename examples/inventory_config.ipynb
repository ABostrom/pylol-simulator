{
 "metadata": {
  "language_info": {
   "codemirror_mode": {
    "name": "ipython",
    "version": 3
   },
   "file_extension": ".py",
   "mimetype": "text/x-python",
   "name": "python",
   "nbconvert_exporter": "python",
   "pygments_lexer": "ipython3",
   "version": "3.7.9-final"
  },
  "orig_nbformat": 2,
  "kernelspec": {
   "name": "python3",
   "display_name": "Python 3.7.9 64-bit ('DeepRL': conda)",
   "metadata": {
    "interpreter": {
     "hash": "a6b797a4091570d69f8a8160f81f5dba34294d1e3a310d498be04ef5196ed8f6"
    }
   }
  }
 },
 "nbformat": 4,
 "nbformat_minor": 2,
 "cells": [
  {
   "cell_type": "code",
   "execution_count": 3,
   "metadata": {},
   "outputs": [
    {
     "output_type": "stream",
     "name": "stdout",
     "text": [
      "[Dagger | 300g\nAD 0\tAP 0\nAR 0\tMR 0\nASPD 25\tAH 0\n, Dagger | 300g\nAD 0\tAP 0\nAR 0\tMR 0\nASPD 25\tAH 0\n]\n[AD 0\tAP 0\nAR 0\tMR 0\nASPD 25\tAH 0\n, AD 0\tAP 0\nAR 0\tMR 0\nASPD 25\tAH 0\n]\nAD 0\tAP 0\nAR 0\tMR 0\nASPD 50\tAH 0\n\n"
     ]
    }
   ],
   "source": [
    "from pylol_simulator.item import Dagger, Inventory, Long_Sword\n",
    "from pylol_simulator.stats import Stats\n",
    "\n",
    "\n",
    "inventory = Inventory(Dagger, Dagger, Long_Sword)\n"
   ]
  },
  {
   "cell_type": "code",
   "execution_count": null,
   "metadata": {},
   "outputs": [],
   "source": []
  }
 ]
}