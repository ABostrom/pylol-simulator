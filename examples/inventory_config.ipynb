{
 "metadata": {
  "language_info": {
   "codemirror_mode": {
    "name": "ipython",
    "version": 3
   },
   "file_extension": ".py",
   "mimetype": "text/x-python",
   "name": "python",
   "nbconvert_exporter": "python",
   "pygments_lexer": "ipython3",
   "version": "3.7.9-final"
  },
  "orig_nbformat": 2,
  "kernelspec": {
   "name": "python3",
   "display_name": "Python 3.7.9 64-bit ('DeepRL': conda)",
   "metadata": {
    "interpreter": {
     "hash": "a6b797a4091570d69f8a8160f81f5dba34294d1e3a310d498be04ef5196ed8f6"
    }
   }
  }
 },
 "nbformat": 4,
 "nbformat_minor": 2,
 "cells": [
  {
   "cell_type": "code",
   "execution_count": 4,
   "metadata": {},
   "outputs": [
    {
     "name": "stdout",
     "output_type": "stream",
     "text": [
      "<class 'pylol_simulator.item.Inventory'>\n"
     ]
    }
   ],
   "source": [
    "from pylol_simulator.item import Dagger, Inventory, Long_Sword\n",
    "from pylol_simulator.stats import Stats\n",
    "\n",
    "\n",
    "inventory = Inventory(Dagger, Dagger, Long_Sword)\n",
    "print(Inventory)"
   ]
  },
  {
   "cell_type": "code",
   "execution_count": null,
   "metadata": {},
   "outputs": [],
   "source": []
  }
 ]
}