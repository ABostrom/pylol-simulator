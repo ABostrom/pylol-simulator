{
 "metadata": {
  "language_info": {
   "codemirror_mode": {
    "name": "ipython",
    "version": 3
   },
   "file_extension": ".py",
   "mimetype": "text/x-python",
   "name": "python",
   "nbconvert_exporter": "python",
   "pygments_lexer": "ipython3",
   "version": "3.7.9"
  },
  "orig_nbformat": 2,
  "kernelspec": {
   "name": "python3",
   "language": "python",
   "display_name": "Python 3 (ipykernel)"
  }
 },
 "nbformat": 4,
 "nbformat_minor": 2,
 "cells": [
  {
   "cell_type": "code",
   "execution_count": 13,
   "metadata": {},
   "outputs": [
    {
     "name": "stdout",
     "output_type": "stream",
     "text": [
      "(None,)\n",
      "Teemo@18\n",
      "                HP   2366.0\t\n",
      "                AD   105.0\tAP 0.0\n",
      "                AR   108.15\tMR 52.1\n",
      "                ASPD 57.46\tAH 0\n",
      "                MANA 674.0\tMANA 674.0\n",
      "\n",
      "0.21099687708497017 0\n",
      "Total:\t105.0\n",
      "True:\t0\n",
      "Phys:\t105.0\n",
      "Magic:\t0.0\n",
      "-------------------\n"
     ]
    }
   ],
   "source": [
    "\n",
    "from pylol_simulator.damage import swing_timer, basic_attack\n",
    "from pylol_simulator.champion import Champion, Teemo, TargetDummy\n",
    "from pylol_simulator.item import Inventory,Immortal_Shieldbow\n",
    "from pylol_simulator.stats import Stats\n",
    "from pylol_simulator.summoner import Summoner\n",
    "\n",
    "import numpy as np\n",
    "\n",
    "\n",
    "# create a new instance of Champion\n",
    "champ_stats = Teemo(level=18)\n",
    "\n",
    "\n",
    "from itertools import combinations\n",
    "damage_profile = []\n",
    "for i in range(1,3):\n",
    "    for inventory in combinations([None, ], i):\n",
    "        print(inventory)\n",
    "\n",
    "        attacker = Summoner(champ_stats, Inventory(*inventory))\n",
    "\n",
    "        print(attacker)\n",
    "\n",
    "        defender = Summoner(TargetDummy())\n",
    "\n",
    "        #single attack example\n",
    "        damage = basic_attack(attacker, defender)\n",
    "        print(damage)\n",
    "        damage_profile = (inventory, damage)\n",
    "\n",
    "        print(\"-------------------\")\n",
    "\n",
    "\n"
   ]
  },
  {
   "cell_type": "code",
   "execution_count": 14,
   "metadata": {},
   "outputs": [
    {
     "name": "stdout",
     "output_type": "stream",
     "text": [
      "0.5039725696787104 0\n",
      "0.39722313408374477 0\n",
      "0.19801167033745526 0\n",
      "0.12617145820169007 0\n",
      "0.8743126216594431 0\n",
      "0.11768109794996973 0\n",
      "0.054552113667888924 0\n",
      "0.4081759414118916 0\n",
      "0.4888693679442049 0\n",
      "0.43816225511479623 0\n",
      "0.7385201863735023 0\n",
      "11\n",
      "[105.0, 0, 0, 0, 0, 0, 0, 0, 0, 0, 0, 0, 0, 0, 0, 0, 0, 0, 0, 0, 0, 0, 0, 0, 0, 0, 0, 0, 0, 0, 0, 0, 0, 0, 0, 0, 0, 0, 0, 0, 0, 0, 0, 0, 0, 0, 0, 105.0, 0, 0, 0, 0, 0, 0, 0, 0, 0, 0, 0, 0, 0, 0, 0, 0, 0, 0, 0, 0, 0, 0, 0, 0, 0, 0, 0, 0, 0, 0, 0, 0, 0, 0, 0, 0, 0, 0, 0, 0, 0, 0, 0, 0, 0, 0, 105.0, 0, 0, 0, 0, 0, 0, 0, 0, 0, 0, 0, 0, 0, 0, 0, 0, 0, 0, 0, 0, 0, 0, 0, 0, 0, 0, 0, 0, 0, 0, 0, 0, 0, 0, 0, 0, 0, 0, 0, 0, 0, 0, 0, 0, 0, 0, 105.0, 0, 0, 0, 0, 0, 0, 0, 0, 0, 0, 0, 0, 0, 0, 0, 0, 0, 0, 0, 0, 0, 0, 0, 0, 0, 0, 0, 0, 0, 0, 0, 0, 0, 0, 0, 0, 0, 0, 0, 0, 0, 0, 0, 0, 0, 0, 105.0, 0, 0, 0, 0, 0, 0, 0, 0, 0, 0, 0, 0, 0, 0, 0, 0, 0, 0, 0, 0, 0, 0, 0, 0, 0, 0, 0, 0, 0, 0, 0, 0, 0, 0, 0, 0, 0, 0, 0, 0, 0, 0, 0, 0, 0, 0, 105.0, 0, 0, 0, 0, 0, 0, 0, 0, 0, 0, 0, 0, 0, 0, 0, 0, 0, 0, 0, 0, 0, 0, 0, 0, 0, 0, 0, 0, 0, 0, 0, 0, 0, 0, 0, 0, 0, 0, 0, 0, 0, 0, 0, 0, 0, 0, 105.0, 0, 0, 0, 0, 0, 0, 0, 0, 0, 0, 0, 0, 0, 0, 0, 0, 0, 0, 0, 0, 0, 0, 0, 0, 0, 0, 0, 0, 0, 0, 0, 0, 0, 0, 0, 0, 0, 0, 0, 0, 0, 0, 0, 0, 0, 0, 105.0, 0, 0, 0, 0, 0, 0, 0, 0, 0, 0, 0, 0, 0, 0, 0, 0, 0, 0, 0, 0, 0, 0, 0, 0, 0, 0, 0, 0, 0, 0, 0, 0, 0, 0, 0, 0, 0, 0, 0, 0, 0, 0, 0, 0, 0, 0, 105.0, 0, 0, 0, 0, 0, 0, 0, 0, 0, 0, 0, 0, 0, 0, 0, 0, 0, 0, 0, 0, 0, 0, 0, 0, 0, 0, 0, 0, 0, 0, 0, 0, 0, 0, 0, 0, 0, 0, 0, 0, 0, 0, 0, 0, 0, 0, 105.0, 0, 0, 0, 0, 0, 0, 0, 0, 0, 0, 0, 0, 0, 0, 0, 0, 0, 0, 0, 0, 0, 0, 0, 0, 0, 0, 0, 0, 0, 0, 0, 0, 0, 0, 0, 0, 0, 0, 0, 0, 0, 0, 0, 0, 0, 0, 105.0, 0, 0, 0, 0, 0, 0, 0, 0, 0, 0, 0, 0, 0, 0, 0, 0, 0, 0, 0, 0, 0, 0, 0, 0, 0, 0, 0, 0, 0, 0]\n"
     ]
    },
    {
     "data": {
      "text/plain": "[<matplotlib.lines.Line2D at 0x1900d31b7f0>]"
     },
     "execution_count": 14,
     "metadata": {},
     "output_type": "execute_result"
    },
    {
     "data": {
      "text/plain": "<Figure size 432x288 with 1 Axes>",
      "image/png": "[encoded data removed]"
     },
     "metadata": {
      "needs_background": "light"
     },
     "output_type": "display_data"
    }
   ],
   "source": [
    "#swing timer example.\n",
    "\n",
    "#10 seconds of attacks, checking every 0.1s\n",
    "x = list(np.linspace(0.0,10.0,501))\n",
    "y = [swing_timer(attacker, defender, time=i) for i in x]\n",
    "_y = list(map(lambda x: x.get_total_damage(), y))\n",
    "\n",
    "attacks = np.count_nonzero(_y)\n",
    "print(attacks)\n",
    "\n",
    "import matplotlib.pyplot as plt\n",
    "\n",
    "print(_y)\n",
    "plt.plot(x,_y)"
   ]
  },
  {
   "cell_type": "code",
   "execution_count": 14,
   "metadata": {},
   "outputs": [],
   "source": []
  }
 ]
}