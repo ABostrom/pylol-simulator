{
 "metadata": {
  "language_info": {
   "codemirror_mode": {
    "name": "ipython",
    "version": 3
   },
   "file_extension": ".py",
   "mimetype": "text/x-python",
   "name": "python",
   "nbconvert_exporter": "python",
   "pygments_lexer": "ipython3",
   "version": 3
  },
  "orig_nbformat": 2
 },
 "nbformat": 4,
 "nbformat_minor": 2,
 "cells": [
  {
   "cell_type": "code",
   "execution_count": null,
   "metadata": {},
   "outputs": [],
   "source": [
    "from pylol_simulator.damage import swing_timer, basic_attack\n",
    "from pylol_simulator.champion import Champion, Caitlynn, TargetDummy\n",
    "from pylol_simulator.item import Inventory, Dagger, Long_Sword, RecurveBow, NashorsTooth\n",
    "from pylol_simulator.stats import Stats\n",
    "from pylol_simulator.summoner import Summoner\n",
    "\n",
    "import numpy as np"
   ]
  },
  {
   "cell_type": "code",
   "execution_count": null,
   "metadata": {},
   "outputs": [],
   "source": []
  }
 ]
}